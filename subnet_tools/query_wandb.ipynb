{
 "cells": [
  {
   "cell_type": "markdown",
   "metadata": {},
   "source": [
    "# Code for fetching run information from wandb\n",
    "\n",
    "This notebook retrieves the latest run information from wandb. You will need a wandb API key stored in a .env file to use this notebook."
   ]
  },
  {
   "cell_type": "code",
   "execution_count": null,
   "metadata": {},
   "outputs": [],
   "source": [
    "# skip if already have packages installed\n",
    "%pip install wandb pandas python-dotenv"
   ]
  },
  {
   "cell_type": "code",
   "execution_count": null,
   "metadata": {},
   "outputs": [],
   "source": [
    "import os\n",
    "import time\n",
    "import pandas as pd\n",
    "import wandb\n",
    "import json\n",
    "from dotenv import load_dotenv\n",
    "load_dotenv()"
   ]
  },
  {
   "cell_type": "code",
   "execution_count": null,
   "metadata": {},
   "outputs": [],
   "source": [
    "wandb_api_key = os.environ.get('WANDB_API_KEY')\n",
    "wandb.login(key=wandb_api_key)"
   ]
  },
  {
   "cell_type": "code",
   "execution_count": 29,
   "metadata": {},
   "outputs": [],
   "source": [
    "wandb_api = wandb.Api()\n",
    "runs = wandb_api.runs('graphite-ai/Graphite-Subnet-V2', per_page=1000, order=\"-created_at\") # arrange in descending order of creation"
   ]
  },
  {
   "cell_type": "code",
   "execution_count": 30,
   "metadata": {},
   "outputs": [],
   "source": [
    "# create dfs to store distance and reward info\n",
    "columns = ['run_id', 'n_nodes', 'validator', 'created_at'] + [i for i in range(256)]\n",
    "distance_df = pd.DataFrame(columns=columns)\n",
    "rewards_df = pd.DataFrame(columns=columns)"
   ]
  },
  {
   "cell_type": "code",
   "execution_count": 31,
   "metadata": {},
   "outputs": [],
   "source": [
    "def extract_run_info(attr):\n",
    "    config = json.loads(attr['displayName'])\n",
    "    validator = config['validator']\n",
    "    n_nodes = config['n_nodes']\n",
    "    created_at = attr['createdAt']\n",
    "    run_id = attr['name']\n",
    "    return {\n",
    "        'validator': validator,\n",
    "        'n_nodes': n_nodes,\n",
    "        'created_at': created_at,\n",
    "        'run_id': run_id\n",
    "    }\n",
    "\n",
    "def extract_scoring_info(history):\n",
    "    for column in history.columns:\n",
    "        if column.startswith('distance'):\n",
    "            distance_data = [round(float(distance), 5) for distance in history[column].tolist()]\n",
    "        if column.startswith('rewards'):\n",
    "            reward_data = [round(float(reward), 5) for reward in history[column].tolist()]\n",
    "    return {i:data for i,data in enumerate(distance_data)}, {i:data for i,data in enumerate(reward_data)}"
   ]
  },
  {
   "cell_type": "code",
   "execution_count": null,
   "metadata": {},
   "outputs": [],
   "source": [
    "# get the most recent 100 runs; edit as per your needs\n",
    "for i in range(100):\n",
    "    try:\n",
    "        print(f\"extract run #{i}\")\n",
    "        run = runs.next()\n",
    "        history = run.history()\n",
    "        run_info = extract_run_info(run._attrs)\n",
    "        distances, rewards = extract_scoring_info(history)\n",
    "        distances.update(run_info)\n",
    "        rewards.update(run_info)\n",
    "        new_distance_row = pd.Series(distances).to_frame().T\n",
    "        new_rewards_row = pd.Series(rewards).to_frame().T\n",
    "        distance_df = pd.concat([distance_df, new_distance_row])\n",
    "        rewards_df = pd.concat([rewards_df, new_rewards_row])\n",
    "        time.sleep(1) # apply sleep to avoid exceeding rate limit. Feel free to adjust this to your needs\n",
    "    except Exception as e:\n",
    "        # break in the event of an error\n",
    "        print(e)\n",
    "        break"
   ]
  },
  {
   "cell_type": "code",
   "execution_count": 33,
   "metadata": {},
   "outputs": [],
   "source": [
    "distance_df.to_csv(\"recent_run_distance_history.csv\") # update the naming and pathing to your specific needs\n",
    "rewards_df.to_csv(\"recent_run_rewards_history.csv\")"
   ]
  }
 ],
 "metadata": {
  "kernelspec": {
   "display_name": "base",
   "language": "python",
   "name": "python3"
  },
  "language_info": {
   "codemirror_mode": {
    "name": "ipython",
    "version": 3
   },
   "file_extension": ".py",
   "mimetype": "text/x-python",
   "name": "python",
   "nbconvert_exporter": "python",
   "pygments_lexer": "ipython3",
   "version": "3.10.13"
  },
  "orig_nbformat": 4
 },
 "nbformat": 4,
 "nbformat_minor": 2
}
